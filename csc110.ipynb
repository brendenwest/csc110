{
  "nbformat": 4,
  "nbformat_minor": 0,
  "metadata": {
    "colab": {
      "name": "csc110.ipynb",
      "version": "0.3.2",
      "provenance": [],
      "collapsed_sections": [
        "eKJCd0IE6035",
        "WbdOA1JlB0Ip",
        "GLgSLWCNB5GW"
      ],
      "include_colab_link": true
    },
    "kernelspec": {
      "name": "python3",
      "display_name": "Python 3"
    }
  },
  "cells": [
    {
      "cell_type": "markdown",
      "metadata": {
        "id": "view-in-github",
        "colab_type": "text"
      },
      "source": [
        "<a href=\"https://colab.research.google.com/github/brendenwest/csc110/blob/master/csc110.ipynb\" target=\"_parent\"><img src=\"https://colab.research.google.com/assets/colab-badge.svg\" alt=\"Open In Colab\"/></a>"
      ]
    },
    {
      "cell_type": "markdown",
      "metadata": {
        "id": "9gUUQAyH5e6i",
        "colab_type": "text"
      },
      "source": [
        "# Intro to Python Programming"
      ]
    },
    {
      "cell_type": "markdown",
      "metadata": {
        "id": "lsrBEyYA4L-S",
        "colab_type": "text"
      },
      "source": [
        "**Reading**\n",
        "\n",
        "*   Think Python, Chapter 1 - http://greenteapress.com/thinkpython2/html/thinkpython2002.html\n",
        "*   Think Python, Chapter 2 - http://greenteapress.com/thinkpython2/html/thinkpython2003.html\n",
        "*https://www.tutorialspoint.com/python/python_basic_syntax.htm \n",
        "\n",
        "<br/>\n",
        "\n",
        "**Practice**\n",
        "\n",
        "Try working through some of the sample exercises here:\n",
        "\n",
        "*   https://repl.it/community/classrooms/17929 (sections 1 & 2)\n",
        "*   [Number story problems](https://canvas.seattlecentral.edu/courses/1804519/files/119358633/download?wrap=1)\n",
        "\n",
        "<br/>\n",
        "\n",
        "**Summary**\n",
        "\n",
        "\n",
        "*   Class overview\n",
        "*   What is computer science?\n",
        "*Computer programming overview\n",
        "*Programming languages overview\n",
        "*Running Python\n",
        "\n",
        "<br/>\n",
        "\n",
        "**What is computer science?**\n",
        "\n",
        "*   Design, Analysis, Experimentation\n",
        "\n",
        "**Design** is the process of creating an algorithm - a step-by-step process for solving a problem with computation\n",
        "\n",
        "**Analysis** is the process of examining algorithms & problems mathematically\n",
        "\n",
        "**Experimentation** is the process of testing a system for possible solutions or verifying that a solution works\n",
        "\n",
        "<br/>\n",
        "\n",
        "**What are programs?**\n",
        "* Programs (software) are step-by-step instructions telling a computer what to do\n",
        "* Programs are ‘executed’ by the computer\n",
        "* Programming is the art of writing programs, and a fundamental part of computer science\n",
        "* Also a form of expression. Programming can be fun.\n",
        " \n",
        "<br/>\n",
        "\n",
        "**Computer hardware**\n",
        "* CPU - central processing unit carries out all basic data operations\n",
        "* GPU - graphics processing unit. Similar to CPU, but optimized for operations typical for graphics\n",
        "* Memory - stores programs and data\n",
        " - Main memory (RAM) is fast, but volatile\n",
        " - Secondary memory - persistent but slower than RAM\n",
        "* Input - How information is passed to the computer. E.g. keyboard, mouse, etc\n",
        "* Output - How information is presented to the user - e.g. monitor, printer\n",
        " \n",
        "<br/>\n",
        "\n",
        "**Programming languages**\n",
        "* Unambiguous way of providing instructions to a computer\n",
        "* High level -v- low level\n",
        " - High-level languages are designed to be understood by humans. E.g. Python, Java, C++\n",
        " - Low-level languages optimized for machines - Machine code, Assembly\n",
        "* Compilers convert code from a high-level language to machine code (binary). Compiled languages include Java, C++, C#\n",
        "* Interpreters allow a computer to execute high-level code without advance compilation. Interpret languages include Python, JavaScript\n",
        "* Compiled programs generally runs faster than interpreted code\n",
        "* Interpreted code can be developed and run interactively\n",
        "\n",
        "<br/>\n",
        "\n",
        "**Why Python**\n",
        "* readable,\n",
        "* easy to set up and run interactively,\n",
        "* class-based & object oriented\n",
        "* Open-source w/ large ecosystem of specialized libraries\n",
        " \n",
        "<br/>\n",
        "\n",
        "**Running Python**\n",
        "* local -v- cloud : Python can be installed and run on a local PC, or via a cloud-hosted service such as Cloud9 or PythonAnywhere\n",
        "* Idle - integrated command-line and file-editing interface installed with Python\n",
        "* Python shell - allows running Python commands one line at a time. For example:"
      ]
    },
    {
      "cell_type": "code",
      "metadata": {
        "id": "zLua_LYV5q_t",
        "colab_type": "code",
        "outputId": "988c291d-05f0-4e78-acdc-a7f6b495103c",
        "colab": {
          "base_uri": "https://localhost:8080/",
          "height": 102
        }
      },
      "source": [
        "# print can take a single parameter\n",
        "print(\"single item\")\n",
        "\n",
        "# or multiple parameter separated by commas\n",
        "print(\"multiple\",\"items\")\n",
        "\n",
        "# parameters can be any data type - int, float, string, boolean\n",
        "print(\"James\", 42, True)\n",
        "\n",
        "# print command will interpret variables and expressions\n",
        "name = \"James\"\n",
        "age = 32\n",
        "print(name, age + 2)\n",
        "\n",
        "# print command prints a line break by default. \n",
        "# You can override that with the 'end' parameter\n",
        "print(\"First print:\", end=\" \") \n",
        "print(\"Second print\")"
      ],
      "execution_count": 0,
      "outputs": [
        {
          "output_type": "stream",
          "text": [
            "single item\n",
            "multiple items\n",
            "James 42 True\n",
            "James 34\n",
            "First print: Second print\n"
          ],
          "name": "stdout"
        }
      ]
    },
    {
      "cell_type": "markdown",
      "metadata": {
        "id": "eKJCd0IE6035",
        "colab_type": "text"
      },
      "source": [
        "# Numbers\n",
        "\n",
        "Python supports integer and float values:\n"
      ]
    },
    {
      "cell_type": "code",
      "metadata": {
        "id": "s_kB6aR-64Md",
        "colab_type": "code",
        "outputId": "e803d64b-85d0-4a0d-d5c2-084ea4e7707c",
        "colab": {
          "base_uri": "https://localhost:8080/"
        }
      },
      "source": [
        "age = 32\n",
        "pi = 3.14\n",
        "\n",
        "# you can inspect a variable's type\n",
        "\n",
        "print(type(age))\n",
        "print(type(pi))"
      ],
      "execution_count": 0,
      "outputs": [
        {
          "output_type": "stream",
          "text": [
            "<class 'int'>\n",
            "<class 'float'>\n"
          ],
          "name": "stdout"
        }
      ]
    },
    {
      "cell_type": "markdown",
      "metadata": {
        "id": "MiEJhPd28ICy",
        "colab_type": "text"
      },
      "source": [
        "Python supports common mathematical operators for addition, subtraction, multiplcation & division:"
      ]
    },
    {
      "cell_type": "code",
      "metadata": {
        "id": "REP4GOZ28fzx",
        "colab_type": "code",
        "outputId": "94de3f64-ce99-44dc-e43a-082d6fda702c",
        "colab": {
          "base_uri": "https://localhost:8080/"
        }
      },
      "source": [
        "print(8 + 4)\n",
        "print(8 - 4)\n",
        "print(8 * 4)\n",
        "print(8 / 4) # note: result is a float"
      ],
      "execution_count": 0,
      "outputs": [
        {
          "output_type": "stream",
          "text": [
            "12\n",
            "4\n",
            "32\n",
            "2.0\n"
          ],
          "name": "stdout"
        }
      ]
    },
    {
      "cell_type": "markdown",
      "metadata": {
        "id": "3BqfDHhc9TX7",
        "colab_type": "text"
      },
      "source": [
        "Python has a special operator for **integer division**"
      ]
    },
    {
      "cell_type": "code",
      "metadata": {
        "id": "ssFLp50t9Zyl",
        "colab_type": "code",
        "outputId": "b640a7a5-113d-4c8a-a350-19689704c65b",
        "colab": {
          "base_uri": "https://localhost:8080/"
        }
      },
      "source": [
        "# result is always a whole number\n",
        "10 // 3"
      ],
      "execution_count": 0,
      "outputs": [
        {
          "output_type": "execute_result",
          "data": {
            "text/plain": [
              "3"
            ]
          },
          "metadata": {
            "tags": []
          },
          "execution_count": 15
        }
      ]
    },
    {
      "cell_type": "markdown",
      "metadata": {
        "id": "3WUIrhWn9gyz",
        "colab_type": "text"
      },
      "source": [
        "Python has a special **modulus** operator to get the **remainder** from a division operation\n",
        "\n",
        "```\n",
        "10 % 2 = 0\n",
        "10 % 3 = 1\n",
        "```\n",
        "\n",
        "\n"
      ]
    },
    {
      "cell_type": "code",
      "metadata": {
        "id": "fqsxY2KT9m7p",
        "colab_type": "code",
        "outputId": "2fd69789-27a2-4813-e25f-703c54eb957e",
        "colab": {
          "base_uri": "https://localhost:8080/"
        }
      },
      "source": [
        "10 % 3"
      ],
      "execution_count": 0,
      "outputs": [
        {
          "output_type": "execute_result",
          "data": {
            "text/plain": [
              "1"
            ]
          },
          "metadata": {
            "tags": []
          },
          "execution_count": 16
        }
      ]
    },
    {
      "cell_type": "markdown",
      "metadata": {
        "id": "WbdOA1JlB0Ip",
        "colab_type": "text"
      },
      "source": [
        "# Conditional Logic\n",
        "\n"
      ]
    },
    {
      "cell_type": "markdown",
      "metadata": {
        "id": "C8X5L7fz_WGx",
        "colab_type": "text"
      },
      "source": [
        "*Conditional statements allow a program to execute different instructions for different conditions. Conditions use *boolean* expressions that evaluate to either True or False.\n",
        "\n",
        "```\n",
        "1 < 3 # evaluates to True\n",
        "1 > 3 # evaluates to False\n",
        "'Dave' == 'dave' # False\n",
        "```\n",
        "Boolean expressions can use these comparison operators:\n",
        "\n",
        "*   < , <= , == , >= , >, !=\n",
        "*   remember to use '==' for comparison\n",
        "*   the ! operator negates the expression. For example:\n",
        "\n",
        "\n",
        "```\n",
        "'Dave' != 'dave' # evaluates to True\n",
        "```\n",
        "\n",
        "**Compound expressions** can be formed with **and**, **or**, **not**.\n",
        "\n",
        "```\n",
        "age < 18 and gender == 'female' # True if both expressions are true\n",
        "\n",
        "age < 18 or gender == 'female' # True if either expression is true \n",
        "```\n",
        "**not** - returns the opposite of a subsequent boolean expression:\n",
        "\n",
        "```\n",
        "not 1 == 1 # returns False \n",
        "not 1 == 2 # returns True \n",
        "\n",
        "```\n",
        "\n",
        "Conditional statements have this basic form:\n",
        "\n",
        "```\n",
        "if <CONDITION>:\n",
        "    <BODY>\n",
        "```\n",
        "\n",
        "\n",
        "1.   no need for parentheses\n",
        "2.   the condiftional statement ends with a colon:\n",
        "3.   CONDITION must be a boolean expression\n",
        "4.   BODY can be any number of statements. Each statement must be indendented\n",
        "*"
      ]
    },
    {
      "cell_type": "code",
      "metadata": {
        "id": "ipSv2Ixh9XUb",
        "colab_type": "code",
        "colab": {}
      },
      "source": [
        "age = 21\n",
        "if age < 21:\n",
        "  print(\"Sorry, you're too young to buy alcohol.\")"
      ],
      "execution_count": 0,
      "outputs": []
    },
    {
      "cell_type": "markdown",
      "metadata": {
        "id": "UQEkj5En9iF4",
        "colab_type": "text"
      },
      "source": [
        "Conditional statements can have multiple, exclusive conditions:\n"
      ]
    },
    {
      "cell_type": "code",
      "metadata": {
        "id": "cfGtWnvP9szI",
        "colab_type": "code",
        "outputId": "9b8242d8-00dc-47ef-b712-73dbf8cc452f",
        "colab": {
          "base_uri": "https://localhost:8080/"
        }
      },
      "source": [
        "age = 21\n",
        "if age < 21:\n",
        "  print(\"Sorry, you're too young to buy alcohol.\")\n",
        "else:  # no boolean expression needed here\n",
        "  print(\"Will that be cash or credit?\")"
      ],
      "execution_count": 0,
      "outputs": [
        {
          "output_type": "stream",
          "text": [
            "Will that be cash or credit?\n"
          ],
          "name": "stdout"
        }
      ]
    },
    {
      "cell_type": "code",
      "metadata": {
        "id": "_yU2aSk_-Acu",
        "colab_type": "code",
        "outputId": "91f6135b-c797-4a5b-b09f-46cec17ab46a",
        "colab": {
          "base_uri": "https://localhost:8080/"
        }
      },
      "source": [
        "age = 17\n",
        "if age < 18:\n",
        "  print(\"You can vote, but not drink or smoke.\")\n",
        "elif age < 21:\n",
        "  print(\"Sorry, you're still too young to buy alcohol.\")\n",
        "else:  # no boolean expression needed here\n",
        "  print(\"Will that be cash or credit?\")"
      ],
      "execution_count": 0,
      "outputs": [
        {
          "output_type": "stream",
          "text": [
            "You can vote, but not drink or smoke.\n"
          ],
          "name": "stdout"
        }
      ]
    },
    {
      "cell_type": "markdown",
      "metadata": {
        "id": "PyhmVqJK-b1B",
        "colab_type": "text"
      },
      "source": [
        "Conditions can be nested:"
      ]
    },
    {
      "cell_type": "code",
      "metadata": {
        "id": "oHE3bkO--d5D",
        "colab_type": "code",
        "outputId": "0762d309-cb4a-454f-c72f-9f455303f061",
        "colab": {
          "base_uri": "https://localhost:8080/"
        }
      },
      "source": [
        "age = 17\n",
        "if age < 21:\n",
        "  if age < 18:\n",
        "    print(\"You can vote, but not drink or smoke.\")\n",
        "  elif age < 21:\n",
        "    print(\"Sorry, you're still too young to buy alcohol.\")\n",
        "else:  # no boolean expression needed here\n",
        "  print(\"Will that be cash or credit?\")"
      ],
      "execution_count": 0,
      "outputs": [
        {
          "output_type": "stream",
          "text": [
            "You can vote, but not drink or smoke.\n"
          ],
          "name": "stdout"
        }
      ]
    },
    {
      "cell_type": "markdown",
      "metadata": {
        "id": "GLgSLWCNB5GW",
        "colab_type": "text"
      },
      "source": [
        "# Functions\n",
        "\n",
        "Python functions have this basic form:\n",
        "\n",
        "```\n",
        "def <name>(<PARAMETERS>): \n",
        "  <BODY>\n",
        "  return <value>\n",
        " ```\n",
        "  \n",
        "- Parameters and return statement are optional\n",
        "- Parameters can be any valid Python data type and are treated as local variables within the function\n",
        "- Functions are ‘called’ or ‘invoked’;\n"
      ]
    },
    {
      "cell_type": "code",
      "metadata": {
        "id": "zD9GqorbCbzC",
        "colab_type": "code",
        "outputId": "8471a481-7c9f-40e5-e84c-8f4920e67a83",
        "colab": {
          "base_uri": "https://localhost:8080/",
          "height": 51
        }
      },
      "source": [
        "def printWelcome(name):\n",
        "   # function doesn't return a value\n",
        "   print(\"Welcome\",name)\n",
        "  \n",
        "printWelcome(\"James\")\n",
        "printWelcome(\"Mike\")"
      ],
      "execution_count": 0,
      "outputs": [
        {
          "output_type": "stream",
          "text": [
            "Welcome James\n",
            "Welcome Mike\n"
          ],
          "name": "stdout"
        }
      ]
    },
    {
      "cell_type": "markdown",
      "metadata": {
        "id": "VH3qAPoc18AT",
        "colab_type": "text"
      },
      "source": [
        "Functions can ‘return’ values:"
      ]
    },
    {
      "cell_type": "code",
      "metadata": {
        "id": "oAWXjxEcCdWm",
        "colab_type": "code",
        "outputId": "7354a83e-46ef-4eca-ef17-ca079e46a931",
        "colab": {
          "base_uri": "https://localhost:8080/",
          "height": 34
        }
      },
      "source": [
        "def multiply(x,y):\n",
        "  # returns a value\n",
        "  return x * y\n",
        "\n",
        "result1 = multiply(3,4) # return value is assigned to a variable\n",
        "print(result1)"
      ],
      "execution_count": 0,
      "outputs": [
        {
          "output_type": "stream",
          "text": [
            "12\n"
          ],
          "name": "stdout"
        }
      ]
    },
    {
      "cell_type": "markdown",
      "metadata": {
        "id": "Vk9f1RWM27Yz",
        "colab_type": "text"
      },
      "source": [
        "Variables defined 'locally' inside a function are not available outside it"
      ]
    },
    {
      "cell_type": "code",
      "metadata": {
        "id": "Rw__51IA3D7j",
        "colab_type": "code",
        "outputId": "22002827-86ff-45fd-9cf0-15a8935384ff",
        "colab": {
          "base_uri": "https://localhost:8080/",
          "height": 217
        }
      },
      "source": [
        "def fullName(first,last):\n",
        "  combined_names = first + ' ' + last\n",
        "  return combined_names # returns the value of fullName\n",
        "\n",
        "print(combined_names) # fails because combined_names is not defined"
      ],
      "execution_count": 0,
      "outputs": [
        {
          "output_type": "error",
          "ename": "NameError",
          "evalue": "ignored",
          "traceback": [
            "\u001b[0;31m---------------------------------------------------------------------------\u001b[0m",
            "\u001b[0;31mNameError\u001b[0m                                 Traceback (most recent call last)",
            "\u001b[0;32m<ipython-input-23-6b1c59b4a322>\u001b[0m in \u001b[0;36m<module>\u001b[0;34m()\u001b[0m\n\u001b[1;32m      3\u001b[0m   \u001b[0;32mreturn\u001b[0m \u001b[0mcombined_names\u001b[0m \u001b[0;31m# returns the value of fullName\u001b[0m\u001b[0;34m\u001b[0m\u001b[0;34m\u001b[0m\u001b[0m\n\u001b[1;32m      4\u001b[0m \u001b[0;34m\u001b[0m\u001b[0m\n\u001b[0;32m----> 5\u001b[0;31m \u001b[0mprint\u001b[0m\u001b[0;34m(\u001b[0m\u001b[0mcombined_names\u001b[0m\u001b[0;34m)\u001b[0m \u001b[0;31m# fails because combined_names is not defined\u001b[0m\u001b[0;34m\u001b[0m\u001b[0;34m\u001b[0m\u001b[0m\n\u001b[0m",
            "\u001b[0;31mNameError\u001b[0m: name 'combined_names' is not defined"
          ]
        }
      ]
    },
    {
      "cell_type": "markdown",
      "metadata": {
        "id": "CgZj9zwl3r0B",
        "colab_type": "text"
      },
      "source": [
        "**By-value**\n",
        "\n",
        "Parameters that are simple data types  (int, string, float, bool) are passed to a function as values. The original variables outside the function are unchanged by any code within the function\n"
      ]
    },
    {
      "cell_type": "code",
      "metadata": {
        "id": "kfxN7_yB4Iay",
        "colab_type": "code",
        "colab": {}
      },
      "source": [
        "def capitalizeName(name):\n",
        "   name = name.capitalize() # local variable is modified\n",
        "   return name\n",
        "\n",
        "name = \"william\"\n",
        "print(capitalizeName(name))\n",
        "print(name) # original value not modified"
      ],
      "execution_count": 0,
      "outputs": []
    },
    {
      "cell_type": "markdown",
      "metadata": {
        "id": "TWIY8mwv4-6Q",
        "colab_type": "text"
      },
      "source": [
        "**By-reference**\n",
        "\n",
        "Function parameters that are objects (e.g. dictionaries or lists) are passed by 'reference'. So changes made to them inside the function  may be visible outside the function."
      ]
    },
    {
      "cell_type": "code",
      "metadata": {
        "id": "QYK8RQSG51-T",
        "colab_type": "code",
        "colab": {}
      },
      "source": [
        "def capitalizeNames(names):\n",
        "  # capitalize each name in list\n",
        "  for i in range(len(names)):\n",
        "    names[i] = names[i].capitalize()\n",
        "    \n",
        "names = [\"jim\",\"sarah\"]\n",
        "capitalizeNames(names)\n",
        "print(names) # prints [\"Jim\",\"Sarah\"]"
      ],
      "execution_count": 0,
      "outputs": []
    },
    {
      "cell_type": "markdown",
      "metadata": {
        "id": "V2s2JvouU14P",
        "colab_type": "text"
      },
      "source": [
        "# Lists\n",
        "\n",
        "Python lists are sequences of values, similar to arrays in other programming languages.\n",
        "\n",
        "*   List items are delimited with brackets\n",
        "*   List items can be any valid data type "
      ]
    },
    {
      "cell_type": "code",
      "metadata": {
        "id": "V_h4B8UbWS3P",
        "colab_type": "code",
        "colab": {}
      },
      "source": [
        "nums = [7,2,5,4]\n",
        "names = ['jim', 'dave', 'sue']\n",
        "myPet = ['dog', 2, True]"
      ],
      "execution_count": 0,
      "outputs": []
    },
    {
      "cell_type": "markdown",
      "metadata": {
        "id": "XmRjd2GdWpff",
        "colab_type": "text"
      },
      "source": [
        "List items can be accessed by **index**. Indices start at **zero**"
      ]
    },
    {
      "cell_type": "code",
      "metadata": {
        "id": "Ly9xczAoWyzv",
        "colab_type": "code",
        "colab": {}
      },
      "source": [
        "names = ['jim', 'dave', 'sue']\n",
        "print(names)\n",
        "print(names[2])\n",
        "\n",
        "names[1] = 'zack' # set a new value\n",
        "print(names)"
      ],
      "execution_count": 0,
      "outputs": []
    },
    {
      "cell_type": "markdown",
      "metadata": {
        "id": "RkADpNrdXSR3",
        "colab_type": "text"
      },
      "source": [
        "List items can be accessed by **slicing** a subset of values with this syntax:\n",
        "\n",
        "\n",
        "```\n",
        "<listname>[<start>:<end>:<step>]\n",
        "```\n",
        "\n",
        "* result will include values up to, but NOT including **end**\n",
        "* If 'start' is omitted, start value is 0\n",
        "* If 'end' is omitted, slice goes to end of the list\n",
        "* if 'step' is omitted, slice will increment by 1,"
      ]
    },
    {
      "cell_type": "code",
      "metadata": {
        "id": "YQTMqzBnXs9w",
        "colab_type": "code",
        "colab": {}
      },
      "source": [
        "mishmash = ['a','x','zebra','n','banana','hij','python','six','qwerty','R']\n",
        "print(mishmash[:2])\n",
        "print(mishmash[1:])\n",
        "print(mishmash[::3])"
      ],
      "execution_count": 0,
      "outputs": []
    },
    {
      "cell_type": "markdown",
      "metadata": {
        "id": "elkQvvWTZOoB",
        "colab_type": "text"
      },
      "source": [
        "Slice can use a 'negative' value to access values starting from the end of the list"
      ]
    },
    {
      "cell_type": "code",
      "metadata": {
        "id": "UJD0LgkYZYaa",
        "colab_type": "code",
        "colab": {}
      },
      "source": [
        "mishmash[::-1]"
      ],
      "execution_count": 0,
      "outputs": []
    },
    {
      "cell_type": "markdown",
      "metadata": {
        "id": "b-zLZlmIZ-3a",
        "colab_type": "text"
      },
      "source": [
        "**Deletion** - List items can be removed with the built-in Python **del** method"
      ]
    },
    {
      "cell_type": "code",
      "metadata": {
        "id": "EN0J4H50aF56",
        "colab_type": "code",
        "colab": {}
      },
      "source": [
        "numbers = [45,7,26,3,95,1,33,9,10,5]\n",
        "del numbers[1]\n",
        "numbers"
      ],
      "execution_count": 0,
      "outputs": []
    },
    {
      "cell_type": "markdown",
      "metadata": {
        "id": "B3yO170zajPC",
        "colab_type": "text"
      },
      "source": [
        "**Concatenation** - Lists can be combined"
      ]
    },
    {
      "cell_type": "code",
      "metadata": {
        "id": "sBdxPjuBars3",
        "colab_type": "code",
        "colab": {}
      },
      "source": [
        "list1 = ['a','b','c']\n",
        "list2 = ['x','y','z']\n",
        "list1 + list2"
      ],
      "execution_count": 0,
      "outputs": []
    },
    {
      "cell_type": "markdown",
      "metadata": {
        "id": "7cqaG6WEa0ai",
        "colab_type": "text"
      },
      "source": [
        "**Length** - lists have length"
      ]
    },
    {
      "cell_type": "code",
      "metadata": {
        "id": "a0uo-JHRa5t6",
        "colab_type": "code",
        "colab": {}
      },
      "source": [
        "len(numbers)"
      ],
      "execution_count": 0,
      "outputs": []
    },
    {
      "cell_type": "markdown",
      "metadata": {
        "id": "DfllJk7JbAp7",
        "colab_type": "text"
      },
      "source": [
        "**Membership** - programs can check if a list contains a particular value"
      ]
    },
    {
      "cell_type": "code",
      "metadata": {
        "id": "nOBRv-n1bKwC",
        "colab_type": "code",
        "colab": {}
      },
      "source": [
        "names = ['jim', 'dave', 'sue']\n",
        "'dave' in names # returns True\n",
        "#'Dave' in names # returns False"
      ],
      "execution_count": 0,
      "outputs": []
    },
    {
      "cell_type": "markdown",
      "metadata": {
        "id": "ewx4XCOSbf5L",
        "colab_type": "text"
      },
      "source": [
        "**Iteration** - programs can operate on each item in a list, one at a time"
      ]
    },
    {
      "cell_type": "code",
      "metadata": {
        "id": "oYxUzlJYboTr",
        "colab_type": "code",
        "colab": {}
      },
      "source": [
        "names = ['jim', 'dave', 'sue']\n",
        "for item in names:\n",
        "  print(item)\n",
        "\n",
        "\n",
        "print('--')\n",
        "\n",
        "for i, item in enumerate(names):\n",
        "  print(i, item)"
      ],
      "execution_count": 0,
      "outputs": []
    },
    {
      "cell_type": "markdown",
      "metadata": {
        "id": "7VO6uuFpcvV0",
        "colab_type": "text"
      },
      "source": [
        "Other global methods relevant to lists\n",
        "* `max(<list>)`\n",
        "* `min(<list>)`\n",
        "* `tuple(<list>)` - converts a tuple to a list"
      ]
    },
    {
      "cell_type": "code",
      "metadata": {
        "id": "OO1Bea_ZdIbx",
        "colab_type": "code",
        "colab": {}
      },
      "source": [
        "numbers= [0,1,2,3,4,5,6,7,8,9]\n",
        "max(numbers)\n",
        "#min(numbers)\n",
        "#tuple(numbers)"
      ],
      "execution_count": 0,
      "outputs": []
    },
    {
      "cell_type": "markdown",
      "metadata": {
        "id": "ewIzYo4ub9PM",
        "colab_type": "text"
      },
      "source": [
        "**List Methods**\n",
        "\n",
        "Python has a number of methods specific to lists: \n",
        "\n",
        "* `<list>.append()` - add element to END of list\n",
        "* `<list>.sort(<function>)` - sort the list. \n",
        "* `<list>.reverse()` - reverse the list\n",
        "* `<list>.index(x)` - return the index of the first occurrence of x\n",
        "* `<list>.insert(i, x)` - insert element x into the list at index i\n",
        "* `<list.count(x)` - returns the number of occurrences of x in the list\n",
        "* `<list>.remove(x)` - delete the first occurrence of x in the list\n",
        "* `<list>.pop(i)` - deletes the ith element from the list and returns its value\n",
        "\n",
        "\n"
      ]
    },
    {
      "cell_type": "code",
      "metadata": {
        "id": "mRQcjrJ_b8-j",
        "colab_type": "code",
        "colab": {}
      },
      "source": [
        "mylist = ['a', 'B', 'b', 'c']\n",
        "print(mylist.index('b'))\n",
        "print(mylist.count('b'))\n"
      ],
      "execution_count": 0,
      "outputs": []
    },
    {
      "cell_type": "markdown",
      "metadata": {
        "id": "XO1c-dGFEHTA",
        "colab_type": "text"
      },
      "source": [
        "**Sorting**\n",
        "- List sorting uses ASCII values by default. "
      ]
    },
    {
      "cell_type": "code",
      "metadata": {
        "id": "uHvznqkJEPge",
        "colab_type": "code",
        "colab": {}
      },
      "source": [
        "mylist = ['a', 'B', 'b', 'c']\n",
        "mylist.sort()\n",
        "mylist"
      ],
      "execution_count": 0,
      "outputs": []
    },
    {
      "cell_type": "markdown",
      "metadata": {
        "id": "WXwEsyT5EYDw",
        "colab_type": "text"
      },
      "source": [
        "You can provide a custom sort function:\n",
        "<list\\>.sort(key=<function\\>,reverse=True)"
      ]
    },
    {
      "cell_type": "code",
      "metadata": {
        "id": "zQahWVnrEufL",
        "colab_type": "code",
        "colab": {}
      },
      "source": [
        "def byAlpha(ch):\n",
        "  return ch.lower()\n",
        "\n",
        "mylist.sort(key=byAlpha)\n",
        "print(mylist)"
      ],
      "execution_count": 0,
      "outputs": []
    },
    {
      "cell_type": "markdown",
      "metadata": {
        "id": "zJc-UO7SDba_",
        "colab_type": "text"
      },
      "source": [
        "**Tuples**\n",
        "* Read-only sequences. Items can't be modified\n",
        "* Defined with parentheses instead of brackets\n",
        "* Similar behavior as lists"
      ]
    },
    {
      "cell_type": "code",
      "metadata": {
        "id": "onPKgfpsDnLz",
        "colab_type": "code",
        "colab": {}
      },
      "source": [
        "mytuple = ('a', 'b', 'c')\n",
        "len(mytuple)"
      ],
      "execution_count": 0,
      "outputs": []
    },
    {
      "cell_type": "code",
      "metadata": {
        "id": "Hmx_xIfHD0Wu",
        "colab_type": "code",
        "colab": {}
      },
      "source": [
        "mytuple[1] = 'x'"
      ],
      "execution_count": 0,
      "outputs": []
    },
    {
      "cell_type": "markdown",
      "metadata": {
        "id": "VsrRbTB7FJtr",
        "colab_type": "text"
      },
      "source": [
        "**Ranges**\n",
        "- Python lets you define a sequence of numbers logically with this syntax:\n",
        "\n",
        "\n",
        "\n",
        "> `range(<start>, <end>, <step>)`\n",
        "\n"
      ]
    },
    {
      "cell_type": "code",
      "metadata": {
        "id": "__FKfTclFcg2",
        "colab_type": "code",
        "colab": {}
      },
      "source": [
        "nums = range(0,6) # 0 = start number, 6 = end number\n",
        "nums = range(6)"
      ],
      "execution_count": 0,
      "outputs": []
    },
    {
      "cell_type": "markdown",
      "metadata": {
        "id": "1VmvEf7bFkq-",
        "colab_type": "text"
      },
      "source": [
        "- End value is NOT included in the sequence\n",
        "- Start value can be omitted if starting from zero\n",
        "- Step value defaults to 1 if omitted. Can be any integer value\n",
        "\n",
        "Ranges can be used like lists:"
      ]
    },
    {
      "cell_type": "code",
      "metadata": {
        "id": "S8gSflDkFuhc",
        "colab_type": "code",
        "colab": {}
      },
      "source": [
        "for num in range(2,11,2):\n",
        "   print(num)"
      ],
      "execution_count": 0,
      "outputs": []
    },
    {
      "cell_type": "markdown",
      "metadata": {
        "id": "Jo1KfSKSeKpC",
        "colab_type": "text"
      },
      "source": [
        "A range can be converted to a list:"
      ]
    },
    {
      "cell_type": "code",
      "metadata": {
        "id": "PJIfX6tyFzcR",
        "colab_type": "code",
        "colab": {}
      },
      "source": [
        "descending = list(range(6,1,-1))\n",
        "print(descending)"
      ],
      "execution_count": 0,
      "outputs": []
    },
    {
      "cell_type": "markdown",
      "metadata": {
        "id": "MRN-sLIpF2r8",
        "colab_type": "text"
      },
      "source": [
        "**Exercises**\n",
        "1. Write a program that reverses a list without using Python's built-in 'reverse' method\n",
        "2. Write a function that returns the mean (average) of a list of numbers\n",
        "3. Write a function that returns the min & max values in a list of numbers, without using a loop,\n",
        "4. Write a program that censors a list by replacing all four-letter words with \"****\"\n",
        "5. Write a program that returns a list of all prime numbers < 100\n",
        "6. Write a program that presents the user with a random playing-card (2-10, Jack, Queen, King, or Ace). You can use this syntax to get a random number between 0 & 12:"
      ]
    },
    {
      "cell_type": "code",
      "metadata": {
        "id": "w9SpLIEIGGSE",
        "colab_type": "code",
        "colab": {}
      },
      "source": [
        "import random\n",
        "num = random.randrange(13)"
      ],
      "execution_count": 0,
      "outputs": []
    },
    {
      "cell_type": "markdown",
      "metadata": {
        "id": "N-sNGMzTKHXe",
        "colab_type": "text"
      },
      "source": [
        "# Loops\n",
        "**Basic Loop**\n",
        "\n",
        "Loops allow execution of the same code once for each item in a list or sequence:\n",
        "\n",
        "```\n",
        "for <var> in <sequence>:\n",
        "  <body>\n",
        "```\n",
        "\n",
        "\n"
      ]
    },
    {
      "cell_type": "markdown",
      "metadata": {
        "id": "QYJi7pSjKwjP",
        "colab_type": "text"
      },
      "source": [
        "* Statements in body are executed once for each item in <sequence\\>\n",
        "* <sequence\\> can be any valid Python sequence (range, list, string, etc.)\n",
        "* With each loop iteration, <var\\> is assigned the value of the next item in the sequence\n",
        "* Can use an ‘accumulator’ variable initialized outside the loop\n"
      ]
    },
    {
      "cell_type": "code",
      "metadata": {
        "id": "n1fdYkM7K_Yj",
        "colab_type": "code",
        "colab": {}
      },
      "source": [
        "fruits = ['apple','lemon','berry']\n",
        "for fruit in fruits:\n",
        "  print(fruit)\n",
        "\n",
        "for num in range(5):\n",
        "  print(num)\n"
      ],
      "execution_count": 0,
      "outputs": []
    },
    {
      "cell_type": "markdown",
      "metadata": {
        "id": "a0zhJ7EYLF_e",
        "colab_type": "text"
      },
      "source": [
        "**Indefinite (while) Loop**\n",
        "\n",
        "Loops as long as a specified condition is true.\n",
        "\n",
        "```\n",
        "while <condition>:\n",
        "  <body>\n",
        "```\n",
        "\n"
      ]
    },
    {
      "cell_type": "code",
      "metadata": {
        "id": "JG9jlgA5LSED",
        "colab_type": "code",
        "colab": {}
      },
      "source": [
        "count = 0\n",
        "while count < 5:\n",
        "  print(count)\n",
        "  count += 1 # MAKE SURE the loop will eventually end\n",
        "  \n",
        "print('done')\n",
        "\n"
      ],
      "execution_count": 0,
      "outputs": []
    },
    {
      "cell_type": "markdown",
      "metadata": {
        "id": "DMJify-4LXEE",
        "colab_type": "text"
      },
      "source": [
        "* <body\\> statements executed as long as <condition\\> is True\n",
        "* <condition\\> can be one or more logical expressions\n",
        "* No guarantee how many times loop will execute\n",
        "* Can result in infinite loop if condition is never met\n",
        "\n",
        "</br>\n",
        "\n",
        "**Sentinel Loop**\n",
        "\n",
        "Loop continues until reaching a special value (sentinel). **break** terminates loop and transfers to command after the loop"
      ]
    },
    {
      "cell_type": "code",
      "metadata": {
        "id": "iA_ihbMELnM7",
        "colab_type": "code",
        "colab": {}
      },
      "source": [
        "stop = 5\n",
        "for i in range(10):\n",
        "  print(i)\n",
        "  if i == stop:\n",
        "    break # forces exit from the loop"
      ],
      "execution_count": 0,
      "outputs": []
    },
    {
      "cell_type": "markdown",
      "metadata": {
        "id": "QKbI2ezTLyNI",
        "colab_type": "text"
      },
      "source": [
        "**Nested Loops**\n",
        "\n",
        "Loops can be nested. Total number times the inner loop is executed is:\n",
        "\n",
        "```\n",
        "number of outer items x number of inner items\n",
        "```"
      ]
    },
    {
      "cell_type": "code",
      "metadata": {
        "id": "j3fAhA49L0A1",
        "colab_type": "code",
        "colab": {}
      },
      "source": [
        "count=1\n",
        "for num_1 in range(4):   # outer loop\n",
        "  for num_2 in range(4): # inner loop\n",
        "    print(count,num_1,num_2)\n",
        "    count +=1\n",
        "  print()"
      ],
      "execution_count": 0,
      "outputs": []
    },
    {
      "cell_type": "markdown",
      "metadata": {
        "id": "3AUzpQAlipo4",
        "colab_type": "text"
      },
      "source": [
        "**Enumerated looops**\n",
        "\n",
        "Basic loops provide list values to the 'body' code. But sometimes a program needs the item's index position as well. In that case you can use this syntax:"
      ]
    },
    {
      "cell_type": "code",
      "metadata": {
        "id": "Zdlp4sCYjBsW",
        "colab_type": "code",
        "colab": {}
      },
      "source": [
        "fruits = ['apple','lemon','berry']\n",
        "for i, fruit in enumerate(fruits):\n",
        "  print(i, fruit)"
      ],
      "execution_count": 0,
      "outputs": []
    },
    {
      "cell_type": "markdown",
      "metadata": {
        "id": "fj3TsR-WWnty",
        "colab_type": "text"
      },
      "source": [
        "#Strings & Files\n",
        "\n",
        "**String variables**\n",
        "- text is represented by the **String** data type\n",
        "- strings are delimited by quotes or apostrophes - e.g. ‘This is text’\n",
        "- delimiter that should appear in the string are **escaped** with \\ - e.g. ‘We\\\\'re excited’\n",
        "- strings are case sensitive "
      ]
    },
    {
      "cell_type": "markdown",
      "metadata": {
        "id": "x_0rNPbnXD-n",
        "colab_type": "text"
      },
      "source": [
        "**Strings are sequences of characters**\n",
        "\n",
        "- strings support many of the same methods as Lists\n",
        "- characters can be accessed by index position\n",
        "- substrings can be accessed with 'slicing'"
      ]
    },
    {
      "cell_type": "code",
      "metadata": {
        "id": "0C2e1E3LXRLG",
        "colab_type": "code",
        "outputId": "e2db6bc8-d2f4-4dfe-b932-a1f748d54d4d",
        "colab": {
          "base_uri": "https://localhost:8080/",
          "height": 52
        }
      },
      "source": [
        "name = 'james'\n",
        "print(name[0])\n",
        "print(name[2:])"
      ],
      "execution_count": 0,
      "outputs": [
        {
          "output_type": "stream",
          "text": [
            "j\n",
            "mes\n"
          ],
          "name": "stdout"
        }
      ]
    },
    {
      "cell_type": "markdown",
      "metadata": {
        "id": "cik7k_lgYXUF",
        "colab_type": "text"
      },
      "source": [
        "**Concatenation** \n",
        "Strings can be combined with a + sign"
      ]
    },
    {
      "cell_type": "code",
      "metadata": {
        "id": "lMWmRb03Ye3b",
        "colab_type": "code",
        "colab": {}
      },
      "source": [
        "'spam' + 'eggs'"
      ],
      "execution_count": 0,
      "outputs": []
    },
    {
      "cell_type": "markdown",
      "metadata": {
        "id": "gKLb1Ru3Yu9Q",
        "colab_type": "text"
      },
      "source": [
        "**Membership**\n",
        "Check if a string contains another string"
      ]
    },
    {
      "cell_type": "code",
      "metadata": {
        "id": "D6kC5eeDY2Ee",
        "colab_type": "code",
        "colab": {}
      },
      "source": [
        "name = 'james'\n",
        "'Z' in name"
      ],
      "execution_count": 0,
      "outputs": []
    },
    {
      "cell_type": "markdown",
      "metadata": {
        "id": "PP8LoSJie981",
        "colab_type": "text"
      },
      "source": [
        "**Iteration** - Because strings are sequences of characters, you can iterate on them with a loop:"
      ]
    },
    {
      "cell_type": "code",
      "metadata": {
        "id": "JoTRdRMNfKTn",
        "colab_type": "code",
        "outputId": "b423bc69-e2b7-4448-9119-1c815cf73a7a",
        "colab": {
          "base_uri": "https://localhost:8080/",
          "height": 35
        }
      },
      "source": [
        "for letter in 'james':\n",
        "    print(letter, end=' - ') # prints each character followed by a hyphen "
      ],
      "execution_count": 0,
      "outputs": [
        {
          "output_type": "stream",
          "text": [
            "j - a - m - e - s - "
          ],
          "name": "stdout"
        }
      ]
    },
    {
      "cell_type": "markdown",
      "metadata": {
        "id": "wGYMPyp5fai-",
        "colab_type": "text"
      },
      "source": [
        "**String methods** - Python provides many string-specific methods:"
      ]
    },
    {
      "cell_type": "code",
      "metadata": {
        "id": "0qhf5j-nfZo9",
        "colab_type": "code",
        "outputId": "d64fdd41-8bbd-404c-f999-7e10ba215c2d",
        "colab": {
          "base_uri": "https://localhost:8080/",
          "height": 35
        }
      },
      "source": [
        "name = 'Bart Simpson Esq.'\n",
        "name.lower()\n",
        "name.lower()"
      ],
      "execution_count": 0,
      "outputs": [
        {
          "output_type": "execute_result",
          "data": {
            "text/plain": [
              "'bart simpson esq.'"
            ]
          },
          "metadata": {
            "tags": []
          },
          "execution_count": 7
        }
      ]
    },
    {
      "cell_type": "markdown",
      "metadata": {
        "id": "1QDS-Vyyh5op",
        "colab_type": "text"
      },
      "source": [
        "count occurrences of a substring"
      ]
    },
    {
      "cell_type": "code",
      "metadata": {
        "id": "0dImXOJHiAcJ",
        "colab_type": "code",
        "outputId": "298e00de-5c49-45b4-d70b-7cf9265efeef",
        "colab": {
          "base_uri": "https://localhost:8080/",
          "height": 35
        }
      },
      "source": [
        "name.count('s')"
      ],
      "execution_count": 0,
      "outputs": [
        {
          "output_type": "execute_result",
          "data": {
            "text/plain": [
              "1"
            ]
          },
          "metadata": {
            "tags": []
          },
          "execution_count": 12
        }
      ]
    },
    {
      "cell_type": "markdown",
      "metadata": {
        "id": "aW4YsVKriFIY",
        "colab_type": "text"
      },
      "source": [
        "return the first position of a substring"
      ]
    },
    {
      "cell_type": "code",
      "metadata": {
        "id": "c6wEZBksiM5Y",
        "colab_type": "code",
        "outputId": "b3858fcf-ea16-4bb5-d277-252480e65694",
        "colab": {
          "base_uri": "https://localhost:8080/",
          "height": 35
        }
      },
      "source": [
        "#name.find('s')\n",
        "name.find('x') # returns -1 if substring not found"
      ],
      "execution_count": 0,
      "outputs": [
        {
          "output_type": "execute_result",
          "data": {
            "text/plain": [
              "-1"
            ]
          },
          "metadata": {
            "tags": []
          },
          "execution_count": 15
        }
      ]
    },
    {
      "cell_type": "markdown",
      "metadata": {
        "id": "_4xxBT-xihKC",
        "colab_type": "text"
      },
      "source": [
        "replace one string with another"
      ]
    },
    {
      "cell_type": "code",
      "metadata": {
        "id": "70AVvCeCileC",
        "colab_type": "code",
        "outputId": "b6f1592a-54ba-4d95-9e29-9f541e0d1121",
        "colab": {
          "base_uri": "https://localhost:8080/",
          "height": 35
        }
      },
      "source": [
        "name.replace('a','o')"
      ],
      "execution_count": 0,
      "outputs": [
        {
          "output_type": "execute_result",
          "data": {
            "text/plain": [
              "'Bort Simpson Esq.'"
            ]
          },
          "metadata": {
            "tags": []
          },
          "execution_count": 17
        }
      ]
    },
    {
      "cell_type": "markdown",
      "metadata": {
        "id": "CG_4tnaiirdi",
        "colab_type": "text"
      },
      "source": [
        "split the string into a list of substrings based on some string"
      ]
    },
    {
      "cell_type": "code",
      "metadata": {
        "id": "AYQsazuri1bK",
        "colab_type": "code",
        "outputId": "687634f5-745c-4e56-f9e9-881513f5e9bf",
        "colab": {
          "base_uri": "https://localhost:8080/",
          "height": 35
        }
      },
      "source": [
        "\n",
        "name.split(' ') # returns a list with space removed\n"
      ],
      "execution_count": 0,
      "outputs": [
        {
          "output_type": "execute_result",
          "data": {
            "text/plain": [
              "['Bart', 'Simpson', 'Esq.']"
            ]
          },
          "metadata": {
            "tags": []
          },
          "execution_count": 20
        }
      ]
    },
    {
      "cell_type": "markdown",
      "metadata": {
        "id": "t0IXezkiloK4",
        "colab_type": "text"
      },
      "source": [
        "[Full reference](https://docs.python.org/3/library/stdtypes.html#string-methods) of Python string methods"
      ]
    },
    {
      "cell_type": "markdown",
      "metadata": {
        "id": "pZG3RTO_i_JC",
        "colab_type": "text"
      },
      "source": [
        "**Character encoding**\n",
        "- ASCII - most common latin characters & symbols\n",
        "- UTF-8 - support for nearly all characters in all languages\n",
        "- Control characters - special characters that control computer behavior (e.g. tabs, spaces, carriage returns, etc.)"
      ]
    },
    {
      "cell_type": "code",
      "metadata": {
        "id": "gA1HNt0oP9Qw",
        "colab_type": "code",
        "outputId": "62e07356-2b17-4b2b-b4a5-01ec52a7e408",
        "colab": {
          "base_uri": "https://localhost:8080/",
          "height": 35
        }
      },
      "source": [
        "words = \"sksebsbbsdcsdcb\"\n",
        "print(words,\"more words\")"
      ],
      "execution_count": 0,
      "outputs": [
        {
          "output_type": "stream",
          "text": [
            "sksebsbbsdcsdcb more words\n"
          ],
          "name": "stdout"
        }
      ]
    },
    {
      "cell_type": "code",
      "metadata": {
        "id": "1WhabLHyjxB8",
        "colab_type": "code",
        "outputId": "c4993e96-1d7c-4f45-b2a3-0f4e178dcfe4",
        "colab": {
          "base_uri": "https://localhost:8080/",
          "height": 35
        }
      },
      "source": [
        "chr(65)  # returns character associated with a number\n",
        "ord('A') # returns number associated with a character"
      ],
      "execution_count": 0,
      "outputs": [
        {
          "output_type": "execute_result",
          "data": {
            "text/plain": [
              "65"
            ]
          },
          "metadata": {
            "tags": []
          },
          "execution_count": 22
        }
      ]
    },
    {
      "cell_type": "markdown",
      "metadata": {
        "id": "CEzf5D0lkHp8",
        "colab_type": "text"
      },
      "source": [
        "**String formatting**\n",
        "Strings can be formatted with a ‘template’ string that has placeholders into which values are inserted:\n",
        "\n",
        "`<template-string>.format(<values>)`"
      ]
    },
    {
      "cell_type": "code",
      "metadata": {
        "id": "N-yG4pEmkUQV",
        "colab_type": "code",
        "outputId": "206f99a2-ea9c-48fd-b137-170a4f66c085",
        "colab": {
          "base_uri": "https://localhost:8080/",
          "height": 35
        }
      },
      "source": [
        "name = 'Dave'\n",
        "hobby = 'baseball'\n",
        "\n",
        "'Hi. My name is {0} ({0}) and I like {1}'.format(name, hobby)\n",
        "\n",
        "#print('Hi my name is',name,'I like',hobby)"
      ],
      "execution_count": 0,
      "outputs": [
        {
          "output_type": "execute_result",
          "data": {
            "text/plain": [
              "'Hi. My name is Dave (Dave) and I like baseball'"
            ]
          },
          "metadata": {
            "tags": []
          },
          "execution_count": 35
        }
      ]
    },
    {
      "cell_type": "markdown",
      "metadata": {
        "id": "nVB-3n-lkrvu",
        "colab_type": "text"
      },
      "source": [
        "The template string has a placeholder for each value.\n",
        "- placeholders have an index number that tells which value to insert,\n",
        "- placeholders can include a format specifier for how the value should be displayed.\n",
        "- format specifier has the form:\n",
        "\n",
        "`<width>.<precision><type>`\n",
        "\n",
        "- width sets how may spaces to occupy and precision indicates # of decimal places. \n",
        "\n",
        "For example, the below example formats ‘total’ value to 2 decimal places:"
      ]
    },
    {
      "cell_type": "code",
      "metadata": {
        "id": "kxqitQqglELI",
        "colab_type": "code",
        "outputId": "2c37e0c4-42ac-4ce3-924f-37cc4bb507c1",
        "colab": {
          "base_uri": "https://localhost:8080/",
          "height": 35
        }
      },
      "source": [
        "'Total price is ${0:10.2f} plus tax'.format(123)"
      ],
      "execution_count": 0,
      "outputs": [
        {
          "output_type": "execute_result",
          "data": {
            "text/plain": [
              "'Total price is $    123.00 plus tax'"
            ]
          },
          "metadata": {
            "tags": []
          },
          "execution_count": 42
        }
      ]
    },
    {
      "cell_type": "markdown",
      "metadata": {
        "id": "c3X73Q6nlZ6G",
        "colab_type": "text"
      },
      "source": [
        "[Full reference](https://docs.python.org/3/library/string.html#format-string-syntax) for Python string formatting"
      ]
    },
    {
      "cell_type": "markdown",
      "metadata": {
        "id": "lTS8MF2ClyOv",
        "colab_type": "text"
      },
      "source": [
        "**File processing**\n",
        "- Files are large strings\n",
        "- Lines in files are separated by newline ( \\n ) characters\n",
        "- After completing read/write operations, the file must be closed\n",
        "- Files must be opened before programs can read from or write to them, like so:\n",
        "\n",
        "```\n",
        "myFile = open('myfile.txt', 'r') \n",
        "```\n",
        "\n",
        "- file name must include it's location relative to the current python program, or an absolute file path. The above example assumes both program and text file are in the same directory.\n",
        "\n",
        "\n",
        "**Writing**\n",
        "\n",
        "Opening a file for writing prepares it to receive data. It creates a file if one doesn’t exist, and overwrites any existing file contents:\n",
        "\n",
        "\n"
      ]
    },
    {
      "cell_type": "code",
      "metadata": {
        "id": "K__gOuJEFbux",
        "colab_type": "code",
        "colab": {}
      },
      "source": [
        "outFile = open('myfile.txt', 'w') \n",
        "print('line 1 writing to file', file=outFile)\n",
        "print('line 2 writing to file', file=outFile)"
      ],
      "execution_count": 0,
      "outputs": []
    },
    {
      "cell_type": "markdown",
      "metadata": {
        "id": "ArrU_mmtGolF",
        "colab_type": "text"
      },
      "source": [
        "\n",
        "\n",
        "**Reading** - after opening a file, you can read file contents with several different commands:\n",
        "- \\<file>.read() - reads entire file into a string\n",
        "- \\<file>.readlines() - returns a list of lines from the file\n",
        "- \\<file>.readline() - returns the next line as a string. Moves ‘pointer’ so subsequent commands operate only on remaining lines.\n",
        "Programs can iterate through all lines in a file:\n"
      ]
    },
    {
      "cell_type": "code",
      "metadata": {
        "id": "LSI3zYBdGvnK",
        "colab_type": "code",
        "outputId": "9b290495-b1e0-4bcf-c900-c79cc0499357",
        "colab": {
          "base_uri": "https://localhost:8080/",
          "height": 156
        }
      },
      "source": [
        "fulltext = open('myfile.txt', 'r').read()\n",
        "print(fulltext)\n",
        "\n",
        "lines = open('myfile.txt', 'r').readlines()\n",
        "print(lines)\n",
        "for line in lines:\n",
        "  print(line)"
      ],
      "execution_count": 0,
      "outputs": [
        {
          "output_type": "stream",
          "text": [
            "line 1 writing to file\n",
            "line 2 writing to file\n",
            "\n",
            "['line 1 writing to file\\n', 'line 2 writing to file\\n']\n",
            "line 1 writing to file\n",
            "\n",
            "line 2 writing to file\n",
            "\n"
          ],
          "name": "stdout"
        }
      ]
    },
    {
      "cell_type": "markdown",
      "metadata": {
        "id": "tOOYBm7DGR40",
        "colab_type": "text"
      },
      "source": [
        "#Dictionaries\n",
        "\n",
        "- Similar to hash table or associative arrays in other languages\n",
        "- Data are stored as key-value pairs\n",
        "- keys must be unique strings\n",
        "- values can be any valid python data type\n",
        "- values are accessed by key and have NO position or sequence order"
      ]
    },
    {
      "cell_type": "code",
      "metadata": {
        "id": "ry7OWl_3GxI-",
        "colab_type": "code",
        "outputId": "a7143b95-a131-47cc-c82d-9458c582ed9b",
        "colab": {
          "base_uri": "https://localhost:8080/",
          "height": 52
        }
      },
      "source": [
        "student = { 'name' : 'sara', 'age': 23, 'name': 'mike' }\n",
        "print(student['name']) # returns the value associated with 'name'\n",
        "\n",
        "student['name'] = 'angela'\n",
        "print(student['name'])"
      ],
      "execution_count": 0,
      "outputs": [
        {
          "output_type": "stream",
          "text": [
            "mike\n",
            "angela\n"
          ],
          "name": "stdout"
        }
      ]
    },
    {
      "cell_type": "markdown",
      "metadata": {
        "id": "l7SdRq4xINlA",
        "colab_type": "text"
      },
      "source": [
        "Accessing a non-existent dictionary key will return an error unless you use the built-in get() method:"
      ]
    },
    {
      "cell_type": "code",
      "metadata": {
        "id": "AwIuG1QXIXw9",
        "colab_type": "code",
        "outputId": "79f998af-e339-4360-9400-4b256c09a695",
        "colab": {
          "base_uri": "https://localhost:8080/",
          "height": 35
        }
      },
      "source": [
        "student['major']\n",
        "\n",
        "student.get('major','default') # use this method to get default value\n"
      ],
      "execution_count": 0,
      "outputs": [
        {
          "output_type": "execute_result",
          "data": {
            "text/plain": [
              "'science'"
            ]
          },
          "metadata": {
            "tags": []
          },
          "execution_count": 9
        }
      ]
    },
    {
      "cell_type": "markdown",
      "metadata": {
        "id": "ykS_LZu7HtGq",
        "colab_type": "text"
      },
      "source": [
        "- Dictionary **length** is the number of its key-value pairs"
      ]
    },
    {
      "cell_type": "code",
      "metadata": {
        "id": "F2VRRYPYHy-h",
        "colab_type": "code",
        "outputId": "4e518438-f64a-4ee1-baff-71527217be69",
        "colab": {
          "base_uri": "https://localhost:8080/",
          "height": 35
        }
      },
      "source": [
        "len(student)"
      ],
      "execution_count": 0,
      "outputs": [
        {
          "output_type": "execute_result",
          "data": {
            "text/plain": [
              "2"
            ]
          },
          "metadata": {
            "tags": []
          },
          "execution_count": 11
        }
      ]
    },
    {
      "cell_type": "markdown",
      "metadata": {
        "id": "MWlDeLt0JVRX",
        "colab_type": "text"
      },
      "source": [
        "Dictionary items can be **deleted** the same as list items:\n"
      ]
    },
    {
      "cell_type": "code",
      "metadata": {
        "id": "Eo-0NpPxJgAU",
        "colab_type": "code",
        "outputId": "c91841ed-8f3c-4510-eb77-d67d360cacc4",
        "colab": {
          "base_uri": "https://localhost:8080/",
          "height": 51
        }
      },
      "source": [
        "student = { 'name' : 'sara', 'age': 23 }\n",
        "print(student)\n",
        "del student['age']\n",
        "print(student)\n"
      ],
      "execution_count": 0,
      "outputs": [
        {
          "output_type": "stream",
          "text": [
            "{'name': 'sara', 'age': 23}\n",
            "{'name': 'sara'}\n"
          ],
          "name": "stdout"
        }
      ]
    },
    {
      "cell_type": "markdown",
      "metadata": {
        "id": "fmXvL1N8J_8j",
        "colab_type": "text"
      },
      "source": [
        "Dictionaries are similar to lists:"
      ]
    },
    {
      "cell_type": "code",
      "metadata": {
        "id": "rSOlfqLpKKXf",
        "colab_type": "code",
        "outputId": "50aada6d-580b-4476-c625-1b058fe69a9c",
        "colab": {
          "base_uri": "https://localhost:8080/",
          "height": 87
        }
      },
      "source": [
        "student = { 'name' : 'sara', 'age': 23 }\n",
        "\n",
        "# check number of items in dictionary\n",
        "print('number of items:',len(student))\n",
        "\n",
        "# check if the dictionary has a key\n",
        "has_name = 'major' in student\n",
        "print('has \\'major\\' key:',has_name)\n",
        "\n",
        "# iterate through collection of dictionary items\n",
        "for key in student:\n",
        "  print(key, \":\", student[key])"
      ],
      "execution_count": 0,
      "outputs": [
        {
          "output_type": "stream",
          "text": [
            "number of items: 2\n",
            "has 'major' key: False\n",
            "name : sara\n",
            "age : 23\n"
          ],
          "name": "stdout"
        }
      ]
    },
    {
      "cell_type": "markdown",
      "metadata": {
        "id": "j72cchhGLtjT",
        "colab_type": "text"
      },
      "source": [
        "Dictionary contents can be accessed as a collection and converted to a list:"
      ]
    },
    {
      "cell_type": "code",
      "metadata": {
        "id": "xufKwszuLy1c",
        "colab_type": "code",
        "outputId": "946b5b58-7451-4148-f2dd-5eee9cf18d93",
        "colab": {
          "base_uri": "https://localhost:8080/",
          "height": 87
        }
      },
      "source": [
        "items = student.items() # returns a sequence of tuples\n",
        "print(items)\n",
        "\n",
        "keys = student.keys()\n",
        "print(keys)\n",
        "\n",
        "values = student.values()\n",
        "print(values)\n",
        "\n",
        "print(list(values))\n"
      ],
      "execution_count": 0,
      "outputs": [
        {
          "output_type": "stream",
          "text": [
            "dict_items([('name', 'sara'), ('age', 23)])\n",
            "dict_keys(['name', 'age'])\n",
            "dict_values(['sara', 23])\n",
            "['sara', 23]\n"
          ],
          "name": "stdout"
        }
      ]
    },
    {
      "cell_type": "markdown",
      "metadata": {
        "id": "H-D8INF0gJkB",
        "colab_type": "text"
      },
      "source": [
        "# Objects & Classes\n",
        "\n",
        "## Objects\n",
        "- are a key concept in object-oriented programming\n",
        "- model a real-world object\n",
        "- are instances of a **class**\n",
        "- encapsulate complex information into a single variable\n",
        "- may have these attributes:\n",
        "  - **variables** that contain data values \n",
        "  - **methods** (functions) that perform object-specific operations\n",
        "- object instance of the same class can have different values for instance variables\n",
        "  \n",
        "\n",
        "## Classes\n",
        "- abstract templates that define object attributes\n",
        "- may define class attributes shared between instances of that class\n",
        "- can be nested in other classes\n",
        "- can be defined in a python module with other classes, or in a standalone module\n",
        "- class names usually begin with an upper-case letter\n",
        "- python class methods automatically receive '**self**' as a parameter\n",
        "- 'self' allows methods to access attributes of the current object instance\n",
        "\n",
        "### Constructor \n",
        "- A special class method to initialize an object instance with default values,\n",
        "- python constructor methods are named \\__init__ (note the double underscores)\n",
        "\n",
        "### Description\n",
        "\n",
        "The **__repr__**  method is automatically invoked by the **print()** command and must return a string value.\n",
        "\n",
        "\n"
      ]
    },
    {
      "cell_type": "code",
      "metadata": {
        "id": "pSuTdtyNi8Sp",
        "colab_type": "code",
        "colab": {}
      },
      "source": [
        "class Student:\n",
        "\n",
        "  studentId = 0  # class variable\n",
        "\n",
        "  # constructor method to create new instance\n",
        "  def __init__(self, name, major):\n",
        "    self.name = name\n",
        "    self.major = major\n",
        "    self.id = Student.studentId \n",
        "    Student.studentId += 1 # ensure each student gets a unique id\n",
        "\n",
        "  # class method to print student name \n",
        "  def displayName(self):\n",
        "    print(\"Name:\", self.name)\n",
        "    \n",
        "  # class method to display description\n",
        "  def __repr__(self):\n",
        "    return \"Student: {0}, id: {1}, major: {2}\".format(self.name, self.studentId, self.major)"
      ],
      "execution_count": 0,
      "outputs": []
    },
    {
      "cell_type": "markdown",
      "metadata": {
        "id": "eMyDtlxjk5_X",
        "colab_type": "text"
      },
      "source": [
        "###Creating Objects\n",
        "\n",
        "Programs can create objects (instances of a class) by invoking the class constructor with parameters for default values."
      ]
    },
    {
      "cell_type": "code",
      "metadata": {
        "id": "SkvxUSUQk2d9",
        "colab_type": "code",
        "outputId": "a629fbf4-e15e-4c4b-b39b-8123971a5060",
        "colab": {
          "base_uri": "https://localhost:8080/",
          "height": 85
        }
      },
      "source": [
        "student1 = Student('James','math')\n",
        "student2 = Student('Sara','cs')\n",
        "\n",
        "print(type(student1))\n",
        "print(type(student2))\n",
        "\n",
        "print(student1) \n",
        "print(student2) "
      ],
      "execution_count": 9,
      "outputs": [
        {
          "output_type": "stream",
          "text": [
            "<class '__main__.Student'>\n",
            "<class '__main__.Student'>\n",
            "Student: James, id: 4, major: math\n",
            "Student: Sara, id: 4, major: cs\n"
          ],
          "name": "stdout"
        }
      ]
    },
    {
      "cell_type": "markdown",
      "metadata": {
        "id": "solAr6u4ugkb",
        "colab_type": "text"
      },
      "source": [
        "### Inheritance\n",
        "\n",
        "* Avoids duplication of code\n",
        "* A class (subclass) can inherit attributes from another class (superclass)\n",
        "* Subclasses can inherit attributes from their superclass\n",
        "* Subclasses can define unique attributes not shared with other subclasses if the same superclass\n",
        "* Subclasses can ‘override’ attributes or methods inherited from their superclass\n",
        "\n"
      ]
    },
    {
      "cell_type": "code",
      "metadata": {
        "id": "7RLdCPVZu96E",
        "colab_type": "code",
        "colab": {
          "base_uri": "https://localhost:8080/",
          "height": 68
        },
        "outputId": "8adee247-bc3b-4519-e1a0-e98b5fd3bb8c"
      },
      "source": [
        "class Person:\n",
        "\n",
        "    def __init__(self, first, last):\n",
        "        self.firstname = first\n",
        "        self.lastname = last\n",
        "\n",
        "    def __repr__(self):\n",
        "        return \"{0} {1}\".format(self.firstname, self.lastname)\n",
        "\n",
        "class Employee(Person):\n",
        "\n",
        "    def __init__(self, first, last, role):\n",
        "        super().__init__(first, last) # create a Person object\n",
        "        self.role = role\n",
        "\n",
        "    def __repr__(self):\n",
        "        return \"{0}, role = {1}\".format(super().__repr__(), self.role)\n",
        "\n",
        "class Student(Person):\n",
        "\n",
        "    def __init__(self, first, last, studentId):\n",
        "        super().__init__(first, last) # create a Person object\n",
        "        self.studentId = studentId\n",
        "\n",
        "    def __repr__(self):\n",
        "        return \"{0}, studentId = {1}\".format(super().__repr__(), self.studentId)\n",
        "\n",
        "person1 = Person(\"Marge\", \"Simpson\") \n",
        "employee1 = Employee(\"Homer\", \"Simpson\", 'teacher')\n",
        "student1 = Student(\"Lisa\", \"Simpson\", 123)\n",
        "\n",
        "print(person1) \n",
        "print(employee1) \n",
        "print(student1) "
      ],
      "execution_count": 3,
      "outputs": [
        {
          "output_type": "stream",
          "text": [
            "Marge Simpson\n",
            "Homer Simpson, role = teacher\n",
            "Lisa Simpson, studentId = 123\n"
          ],
          "name": "stdout"
        }
      ]
    },
    {
      "cell_type": "markdown",
      "metadata": {
        "id": "Xpova_Giw4Af",
        "colab_type": "text"
      },
      "source": [
        "### Importing Classes\n",
        "\n",
        "Python programs often import classes defined in other python modules.\n",
        "\n",
        "A program can import all module classes, with module name prefixed to any class methods or attributes: \n",
        "\n",
        "```\n",
        "import math\n",
        "print(math.pi)\n",
        "```\n",
        "\n",
        "Alternatively, a program can import specific module classes. In this case, module prefix is not required on usage:  \n",
        "\n",
        "```\n",
        "from math import pi\n",
        "print(pi)\n",
        "```"
      ]
    },
    {
      "cell_type": "markdown",
      "metadata": {
        "id": "VmC8ww4wyuCH",
        "colab_type": "text"
      },
      "source": [
        "# Data Visualization\n",
        "\n",
        "Presenting data visually often helps people to see and understand patterns in their data. Visualization can range from simple plots or charts to very complex plots of large datasets with mutiple dimensions.\n",
        "\n",
        "Python offers several very powerful tools for data visualization and is widely used in the sciences and business for data analysis. Increasingly, knowing how to present data visually is a key technical skill.\n",
        "\n",
        "[matplotlib](https://matplotlib.org/) is a key python libary for data visualization and supports a wide range of plots & charts."
      ]
    },
    {
      "cell_type": "markdown",
      "metadata": {
        "id": "glZpKItDzHg0",
        "colab_type": "text"
      },
      "source": [
        "### Setting up matplotlib\n",
        "\n",
        "You may need to install matplotlib on your computer, using the examples here:\n",
        "\n",
        "[https://matplotlib.org/faq/installing_faq.html ](https://matplotlib.org/faq/installing_faq.html )\n",
        "\n",
        "If using Mac OSX with Python 3 already installed, open Terminal and enter these commands:\n",
        "\n",
        "```\n",
        "$ python -mpip install pip\n",
        "$ python -mpip install matplotlib\n",
        "```\n",
        "\n",
        "If using Windows 10, open Powershell and run the above commands. Depending on how Python was installed, you may need to use '**python3**' instead of 'python'. \n",
        "\n",
        "If you get an error that Python is not found, you may need to enter the full Windows path to the Python executable. You can find this path by running these commands in IDLE:\n",
        "\n",
        "```\n",
        ">>> import os\n",
        ">>> import sys\n",
        ">>> os.path.dirname(sys.executable)\n",
        "```\n",
        "\n"
      ]
    },
    {
      "cell_type": "markdown",
      "metadata": {
        "id": "5eaVfsW9zs6x",
        "colab_type": "text"
      },
      "source": [
        "### Basic matplotlib syntax\n",
        "matplotlib includes several key sub-libraries. pyplot is one sub-library commonly used for plotting data. pyplot accepts Python lists or tuples with integer or float values, and can calculate default axis ranges  and tick marks.\n",
        "\n",
        "Programs that plot data will need to import those libraries:"
      ]
    },
    {
      "cell_type": "code",
      "metadata": {
        "id": "JY0tvUYLz1y4",
        "colab_type": "code",
        "colab": {
          "base_uri": "https://localhost:8080/",
          "height": 269
        },
        "outputId": "fad22970-f6f5-4980-abb3-77b7b782bff4"
      },
      "source": [
        "# import sublibrary required for plotting data\n",
        "import matplotlib.pyplot as plt\n",
        "\n",
        "x_values = range(5)      # values for x-axis\n",
        "y_values = [3,12,7,9,18] # values for y-axis\n",
        "\n",
        "# create sub-plot showing the data as a line\n",
        "plt.plot(x_values, y_values, label='my data')\n",
        "\n",
        "# Add a legend\n",
        "plt.legend()\n",
        "\n",
        "# Show the plot\n",
        "plt.show()"
      ],
      "execution_count": 13,
      "outputs": [
        {
          "output_type": "display_data",
          "data": {
            "image/png": "[encoded data removed]",
            "text/plain": [
              "<Figure size 432x288 with 1 Axes>"
            ]
          },
          "metadata": {
            "tags": []
          }
        }
      ]
    },
    {
      "cell_type": "markdown",
      "metadata": {
        "id": "k_0XP-BhOoGH",
        "colab_type": "text"
      },
      "source": [
        "**Scatter plots**\n",
        "\n",
        "Sometimes data have no sequence, and may be displayed as a scatter plot like so"
      ]
    },
    {
      "cell_type": "code",
      "metadata": {
        "id": "ycBnXOYvOpu1",
        "colab_type": "code",
        "colab": {
          "base_uri": "https://localhost:8080/",
          "height": 269
        },
        "outputId": "5417daa6-05d8-4e11-e41b-8c1baa27052f"
      },
      "source": [
        "# show a scatter plot\n",
        "plt.scatter(x_values,y_values, label='my data')\n",
        "plt.show()"
      ],
      "execution_count": 12,
      "outputs": [
        {
          "output_type": "display_data",
          "data": {
            "image/png": "[encoded data removed]",
            "text/plain": [
              "<Figure size 432x288 with 1 Axes>"
            ]
          },
          "metadata": {
            "tags": []
          }
        }
      ]
    },
    {
      "cell_type": "markdown",
      "metadata": {
        "id": "gcNa74faPAxk",
        "colab_type": "text"
      },
      "source": [
        "**Categorical data**\n",
        "\n",
        "When data correspond to categories, a bar chart or horizontal bar chart is more useful:"
      ]
    },
    {
      "cell_type": "code",
      "metadata": {
        "id": "gUpspuVAPDvc",
        "colab_type": "code",
        "colab": {
          "base_uri": "https://localhost:8080/",
          "height": 538
        },
        "outputId": "26e6a7db-3e82-4b9c-a5bb-dcef45d51d5c"
      },
      "source": [
        "plt.bar(x_values,y_values, label='my data', align=\"center\") # show vertical bars\n",
        "plt.show()\n",
        "plt.barh(x_values,y_values, label='my data') # show horizontal bars"
      ],
      "execution_count": 15,
      "outputs": [
        {
          "output_type": "display_data",
          "data": {
            "image/png": "[encoded data removed]",
            "text/plain": [
              "<Figure size 432x288 with 1 Axes>"
            ]
          },
          "metadata": {
            "tags": []
          }
        },
        {
          "output_type": "execute_result",
          "data": {
            "text/plain": [
              "<BarContainer object of 5 artists>"
            ]
          },
          "metadata": {
            "tags": []
          },
          "execution_count": 15
        },
        {
          "output_type": "display_data",
          "data": {
            "image/png": "[encoded data removed]",
            "text/plain": [
              "<Figure size 432x288 with 1 Axes>"
            ]
          },
          "metadata": {
            "tags": []
          }
        }
      ]
    },
    {
      "cell_type": "markdown",
      "metadata": {
        "id": "Dy8Y3kmuQAY4",
        "colab_type": "text"
      },
      "source": [
        "**Pie Charts**\n",
        "\n",
        "pyplot can display data as a pie chart to show proportions:"
      ]
    },
    {
      "cell_type": "code",
      "metadata": {
        "id": "veHQQoDpP5kd",
        "colab_type": "code",
        "colab": {
          "base_uri": "https://localhost:8080/",
          "height": 255
        },
        "outputId": "4c1d5f09-97f6-4c1c-b51a-f496b53073fe"
      },
      "source": [
        "# Pie chart, where the slices will be ordered and plotted counter-clockwise:\n",
        "labels = ['Frogs', 'Hogs', 'Dogs', 'Logs']\n",
        "sizes = [15, 30, 45, 10]\n",
        "\n",
        "plt.pie(sizes, labels=labels, autopct='%1.1f%%',\n",
        "        shadow=True, startangle=90)\n",
        "plt.axis('equal')  # Equal aspect ratio ensures that pie is drawn as a circle.\n",
        "plt.show()"
      ],
      "execution_count": 20,
      "outputs": [
        {
          "output_type": "display_data",
          "data": {
            "image/png": "[encoded data removed]",
            "text/plain": [
              "<Figure size 432x288 with 1 Axes>"
            ]
          },
          "metadata": {
            "tags": []
          }
        }
      ]
    },
    {
      "cell_type": "markdown",
      "metadata": {
        "id": "8xPVQUTePnxA",
        "colab_type": "text"
      },
      "source": [
        "**Multiple plots**\n",
        "\n",
        "A plot can include several sub-plots of the same or different types:"
      ]
    },
    {
      "cell_type": "code",
      "metadata": {
        "id": "DiZ5HrouPsit",
        "colab_type": "code",
        "colab": {
          "base_uri": "https://localhost:8080/",
          "height": 269
        },
        "outputId": "7d6ab532-1c84-4aad-ee06-689ae52604ca"
      },
      "source": [
        "plt.plot([1, 2, 3, 4], [10, 20, 25, 30])\n",
        "plt.scatter([0.3, 3.8, 1.2, 2.5], [11, 25, 9, 26])\n",
        "plt.show() "
      ],
      "execution_count": 16,
      "outputs": [
        {
          "output_type": "display_data",
          "data": {
            "image/png": "[encoded data removed]",
            "text/plain": [
              "<Figure size 432x288 with 1 Axes>"
            ]
          },
          "metadata": {
            "tags": []
          }
        }
      ]
    },
    {
      "cell_type": "markdown",
      "metadata": {
        "id": "mIAld6jrQbks",
        "colab_type": "text"
      },
      "source": [
        "**Saving Plots**\n",
        "\n",
        "You can save plots to a  graphic file:\n",
        "\n",
        "```\n",
        "plt.savefig(\"mydata.png\")\n",
        "```\n",
        "\n",
        "or to a PDF file:\n",
        "\n",
        "\n",
        "```\n",
        "from matplotlib.backends.backend_pdf import PdfPages \n",
        "pp = PdfPages('mydata.pdf') # Initialize the pdf file \n",
        "pp.savefig()\n",
        "```\n"
      ]
    }
  ]
}